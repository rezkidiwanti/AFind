{
 "cells": [
  {
   "cell_type": "code",
   "execution_count": 1,
   "metadata": {},
   "outputs": [],
   "source": [
    "import AFSignalProcessing\n",
    "\n",
    "data_ecg = f'Data TEST/NORMAL_05261-5.csv'\n",
    "f = open(data_ecg, 'r')\n",
    "lines = f.readlines()\n",
    "f.close()\n",
    "extraction_all = AFSignalProcessing.make_fiture(lines,1)"
   ]
  },
  {
   "cell_type": "code",
   "execution_count": 5,
   "metadata": {},
   "outputs": [],
   "source": [
    "fitur_n_json = []\n",
    "for x in [extraction_all]:    \n",
    "    dictnya = {}\n",
    "    for i,j in zip(x[0], x[1]):\n",
    "        dictnya[i] = j \n",
    "        dictnya[\"label\"] = data_ecg[0].split('_')[0]\n",
    "    fitur_n_json.append(dictnya)"
   ]
  },
  {
   "cell_type": "code",
   "execution_count": 7,
   "metadata": {},
   "outputs": [
    {
     "data": {
      "text/html": [
       "<div>\n",
       "<style scoped>\n",
       "    .dataframe tbody tr th:only-of-type {\n",
       "        vertical-align: middle;\n",
       "    }\n",
       "\n",
       "    .dataframe tbody tr th {\n",
       "        vertical-align: top;\n",
       "    }\n",
       "\n",
       "    .dataframe thead th {\n",
       "        text-align: right;\n",
       "    }\n",
       "</style>\n",
       "<table border=\"1\" class=\"dataframe\">\n",
       "  <thead>\n",
       "    <tr style=\"text-align: right;\">\n",
       "      <th></th>\n",
       "      <th>maxRR</th>\n",
       "      <th>label</th>\n",
       "      <th>minRR</th>\n",
       "      <th>meanRR</th>\n",
       "      <th>stdevRR</th>\n",
       "      <th>maxQRS</th>\n",
       "      <th>minQRS</th>\n",
       "      <th>meanQRS</th>\n",
       "      <th>stdevQRS</th>\n",
       "      <th>maxTP</th>\n",
       "      <th>minTP</th>\n",
       "      <th>meanTP</th>\n",
       "      <th>stdevTP</th>\n",
       "      <th>maxPQ</th>\n",
       "      <th>minPQ</th>\n",
       "      <th>meanPQ</th>\n",
       "      <th>stdevPQ</th>\n",
       "    </tr>\n",
       "  </thead>\n",
       "  <tbody>\n",
       "    <tr>\n",
       "      <th>0</th>\n",
       "      <td>0.916</td>\n",
       "      <td>D</td>\n",
       "      <td>0.848</td>\n",
       "      <td>0.877313</td>\n",
       "      <td>0.012505</td>\n",
       "      <td>0.1</td>\n",
       "      <td>0.064</td>\n",
       "      <td>0.067821</td>\n",
       "      <td>0.006236</td>\n",
       "      <td>0.5</td>\n",
       "      <td>0.44</td>\n",
       "      <td>0.460485</td>\n",
       "      <td>0.011929</td>\n",
       "      <td>0.088</td>\n",
       "      <td>0.052</td>\n",
       "      <td>0.08103</td>\n",
       "      <td>0.006122</td>\n",
       "    </tr>\n",
       "  </tbody>\n",
       "</table>\n",
       "</div>"
      ],
      "text/plain": [
       "   maxRR label  minRR    meanRR   stdevRR  maxQRS  minQRS   meanQRS  stdevQRS  \\\n",
       "0  0.916     D  0.848  0.877313  0.012505     0.1   0.064  0.067821  0.006236   \n",
       "\n",
       "   maxTP  minTP    meanTP   stdevTP  maxPQ  minPQ   meanPQ   stdevPQ  \n",
       "0    0.5   0.44  0.460485  0.011929  0.088  0.052  0.08103  0.006122  "
      ]
     },
     "execution_count": 7,
     "metadata": {},
     "output_type": "execute_result"
    }
   ],
   "source": [
    "import pandas as pd \n",
    "\n",
    "df_test = pd.DataFrame(fitur_n_json)\n",
    "df_test"
   ]
  },
  {
   "cell_type": "code",
   "execution_count": 8,
   "metadata": {},
   "outputs": [],
   "source": [
    "import seaborn as sns\n",
    "import matplotlib.pyplot as plt \n",
    "\n",
    "df_test['label_encode'] = df_test['label'].map({\n",
    "    'Normal': 0,\n",
    "    'AF': 1\n",
    "})"
   ]
  },
  {
   "cell_type": "code",
   "execution_count": 9,
   "metadata": {},
   "outputs": [],
   "source": [
    "import pickle\n",
    "loaded_model = pickle.load(open('model_ecg_adaboost_tuned.sav', 'rb'))"
   ]
  },
  {
   "cell_type": "code",
   "execution_count": 12,
   "metadata": {},
   "outputs": [],
   "source": [
    "df_inference = df_test.drop(columns=['label','label_encode','maxRR','maxQRS','minQRS','meanQRS','stdevQRS','maxTP'])\n"
   ]
  },
  {
   "cell_type": "code",
   "execution_count": 13,
   "metadata": {},
   "outputs": [
    {
     "name": "stdout",
     "output_type": "stream",
     "text": [
      "Normal with confidence : 0.7125874272870321\n"
     ]
    },
    {
     "name": "stderr",
     "output_type": "stream",
     "text": [
      "c:\\Users\\ASUS\\AppData\\Local\\Programs\\Python\\Python310\\lib\\site-packages\\sklearn\\base.py:409: UserWarning: X does not have valid feature names, but AdaBoostClassifier was fitted with feature names\n",
      "  warnings.warn(\n"
     ]
    }
   ],
   "source": [
    "prediksi = loaded_model.predict_proba(df_inference.values)\n",
    "\n",
    "if prediksi.argmax() == 1:\n",
    "    print(f'AF with confidence : {prediksi[0][prediksi.argmax()]}')\n",
    "else:\n",
    "    print(f'Normal with confidence : {prediksi[0][prediksi.argmax()]}')"
   ]
  }
 ],
 "metadata": {
  "kernelspec": {
   "display_name": "Python 3",
   "language": "python",
   "name": "python3"
  },
  "language_info": {
   "codemirror_mode": {
    "name": "ipython",
    "version": 3
   },
   "file_extension": ".py",
   "mimetype": "text/x-python",
   "name": "python",
   "nbconvert_exporter": "python",
   "pygments_lexer": "ipython3",
   "version": "3.10.2"
  },
  "orig_nbformat": 4
 },
 "nbformat": 4,
 "nbformat_minor": 2
}
